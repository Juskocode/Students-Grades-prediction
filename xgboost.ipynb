{
 "cells": [
  {
   "cell_type": "markdown",
   "id": "b80ea2e3",
   "metadata": {
    "papermill": {
     "duration": 0.007193,
     "end_time": "2025-01-08T15:27:42.725715",
     "exception": false,
     "start_time": "2025-01-08T15:27:42.718522",
     "status": "completed"
    },
    "tags": []
   },
   "source": [
    "**This notebook is an exercise in the [Intermediate Machine Learning](https://www.kaggle.com/learn/intermediate-machine-learning) course.  You can reference the tutorial at [this link](https://www.kaggle.com/alexisbcook/xgboost).**\n",
    "\n",
    "---\n"
   ]
  },
  {
   "cell_type": "markdown",
   "id": "4fc64824",
   "metadata": {
    "papermill": {
     "duration": 0.004584,
     "end_time": "2025-01-08T15:27:42.735674",
     "exception": false,
     "start_time": "2025-01-08T15:27:42.731090",
     "status": "completed"
    },
    "tags": []
   },
   "source": [
    "In this exercise, you will use your new knowledge to train a model with **gradient boosting**.\n",
    "\n",
    "# Setup\n",
    "\n",
    "The questions below will give you feedback on your work. Run the following cell to set up the feedback system."
   ]
  },
  {
   "cell_type": "code",
   "execution_count": 1,
   "id": "0625f14c",
   "metadata": {
    "execution": {
     "iopub.execute_input": "2025-01-08T15:27:42.747181Z",
     "iopub.status.busy": "2025-01-08T15:27:42.746682Z",
     "iopub.status.idle": "2025-01-08T15:27:45.820460Z",
     "shell.execute_reply": "2025-01-08T15:27:45.819260Z"
    },
    "papermill": {
     "duration": 3.082028,
     "end_time": "2025-01-08T15:27:45.822596",
     "exception": false,
     "start_time": "2025-01-08T15:27:42.740568",
     "status": "completed"
    },
    "tags": []
   },
   "outputs": [
    {
     "name": "stdout",
     "output_type": "stream",
     "text": [
      "Setup Complete\n"
     ]
    }
   ],
   "source": [
    "# Set up code checking\n",
    "import os\n",
    "if not os.path.exists(\"../input/train.csv\"):\n",
    "    os.symlink(\"../input/home-data-for-ml-course/train.csv\", \"../input/train.csv\")  \n",
    "    os.symlink(\"../input/home-data-for-ml-course/test.csv\", \"../input/test.csv\") \n",
    "from learntools.core import binder\n",
    "binder.bind(globals())\n",
    "from learntools.ml_intermediate.ex6 import *\n",
    "print(\"Setup Complete\")"
   ]
  },
  {
   "cell_type": "markdown",
   "id": "1ced913c",
   "metadata": {
    "papermill": {
     "duration": 0.004397,
     "end_time": "2025-01-08T15:27:45.832222",
     "exception": false,
     "start_time": "2025-01-08T15:27:45.827825",
     "status": "completed"
    },
    "tags": []
   },
   "source": [
    "You will work with the [Housing Prices Competition for Kaggle Learn Users](https://www.kaggle.com/c/home-data-for-ml-course) dataset from the previous exercise. \n",
    "\n",
    "![Ames Housing dataset image](https://storage.googleapis.com/kaggle-media/learn/images/lTJVG4e.png)\n",
    "\n",
    "Run the next code cell without changes to load the training and validation sets in `X_train`, `X_valid`, `y_train`, and `y_valid`.  The test set is loaded in `X_test`."
   ]
  },
  {
   "cell_type": "code",
   "execution_count": 2,
   "id": "72749603",
   "metadata": {
    "execution": {
     "iopub.execute_input": "2025-01-08T15:27:45.843805Z",
     "iopub.status.busy": "2025-01-08T15:27:45.843360Z",
     "iopub.status.idle": "2025-01-08T15:27:45.995644Z",
     "shell.execute_reply": "2025-01-08T15:27:45.994432Z"
    },
    "papermill": {
     "duration": 0.160917,
     "end_time": "2025-01-08T15:27:45.997787",
     "exception": false,
     "start_time": "2025-01-08T15:27:45.836870",
     "status": "completed"
    },
    "tags": []
   },
   "outputs": [],
   "source": [
    "import pandas as pd\n",
    "from sklearn.model_selection import train_test_split\n",
    "\n",
    "# Read the data\n",
    "X = pd.read_csv('../input/train.csv', index_col='Id')\n",
    "X_test_full = pd.read_csv('../input/test.csv', index_col='Id')\n",
    "\n",
    "# Remove rows with missing target, separate target from predictors\n",
    "X.dropna(axis=0, subset=['SalePrice'], inplace=True)\n",
    "y = X.SalePrice              \n",
    "X.drop(['SalePrice'], axis=1, inplace=True)\n",
    "\n",
    "# Break off validation set from training data\n",
    "X_train_full, X_valid_full, y_train, y_valid = train_test_split(X, y, train_size=0.8, test_size=0.2,\n",
    "                                                                random_state=0)\n",
    "\n",
    "# \"Cardinality\" means the number of unique values in a column\n",
    "# Select categorical columns with relatively low cardinality (convenient but arbitrary)\n",
    "low_cardinality_cols = [cname for cname in X_train_full.columns if X_train_full[cname].nunique() < 10 and \n",
    "                        X_train_full[cname].dtype == \"object\"]\n",
    "\n",
    "# Select numeric columns\n",
    "numeric_cols = [cname for cname in X_train_full.columns if X_train_full[cname].dtype in ['int64', 'float64']]\n",
    "\n",
    "# Keep selected columns only\n",
    "my_cols = low_cardinality_cols + numeric_cols\n",
    "X_train = X_train_full[my_cols].copy()\n",
    "X_valid = X_valid_full[my_cols].copy()\n",
    "X_test = X_test_full[my_cols].copy()\n",
    "\n",
    "# One-hot encode the data (to shorten the code, we use pandas)\n",
    "X_train = pd.get_dummies(X_train)\n",
    "X_valid = pd.get_dummies(X_valid)\n",
    "X_test = pd.get_dummies(X_test)\n",
    "X_train, X_valid = X_train.align(X_valid, join='left', axis=1)\n",
    "X_train, X_test = X_train.align(X_test, join='left', axis=1)"
   ]
  },
  {
   "cell_type": "markdown",
   "id": "53e81691",
   "metadata": {
    "papermill": {
     "duration": 0.004263,
     "end_time": "2025-01-08T15:27:46.006894",
     "exception": false,
     "start_time": "2025-01-08T15:27:46.002631",
     "status": "completed"
    },
    "tags": []
   },
   "source": [
    "# Step 1: Build model\n",
    "\n",
    "### Part A\n",
    "\n",
    "In this step, you'll build and train your first model with gradient boosting.\n",
    "\n",
    "- Begin by setting `my_model_1` to an XGBoost model.  Use the [XGBRegressor](https://xgboost.readthedocs.io/en/latest/python/python_api.html#xgboost.XGBRegressor) class, and set the random seed to 0 (`random_state=0`).  **Leave all other parameters as default.**\n",
    "- Then, fit the model to the training data in `X_train` and `y_train`."
   ]
  },
  {
   "cell_type": "code",
   "execution_count": 3,
   "id": "bbcee377",
   "metadata": {
    "execution": {
     "iopub.execute_input": "2025-01-08T15:27:46.017996Z",
     "iopub.status.busy": "2025-01-08T15:27:46.017577Z",
     "iopub.status.idle": "2025-01-08T15:27:46.487283Z",
     "shell.execute_reply": "2025-01-08T15:27:46.486236Z"
    },
    "papermill": {
     "duration": 0.477719,
     "end_time": "2025-01-08T15:27:46.489126",
     "exception": false,
     "start_time": "2025-01-08T15:27:46.011407",
     "status": "completed"
    },
    "tags": []
   },
   "outputs": [
    {
     "data": {
      "application/javascript": [
       "parent.postMessage({\"jupyterEvent\": \"custom.exercise_interaction\", \"data\": {\"outcomeType\": 1, \"valueTowardsCompletion\": 0.5, \"interactionType\": 1, \"questionType\": 2, \"questionId\": \"1.1_Model1A\", \"learnToolsVersion\": \"0.3.4\", \"failureMessage\": \"\", \"exceptionClass\": \"\", \"trace\": \"\"}}, \"*\")"
      ],
      "text/plain": [
       "<IPython.core.display.Javascript object>"
      ]
     },
     "metadata": {},
     "output_type": "display_data"
    },
    {
     "data": {
      "text/markdown": [
       "<span style=\"color:#33cc33\">Correct</span>"
      ],
      "text/plain": [
       "Correct"
      ]
     },
     "metadata": {},
     "output_type": "display_data"
    }
   ],
   "source": [
    "from xgboost import XGBRegressor\n",
    "\n",
    "# Define the model\n",
    "my_model_1 = XGBRegressor(random_state = 0)\n",
    "\n",
    "# Fit the model\n",
    "my_model_1.fit(X_train, y_train)\n",
    "# Check your answer\n",
    "step_1.a.check()"
   ]
  },
  {
   "cell_type": "code",
   "execution_count": 4,
   "id": "2cdfd261",
   "metadata": {
    "execution": {
     "iopub.execute_input": "2025-01-08T15:27:46.499906Z",
     "iopub.status.busy": "2025-01-08T15:27:46.499545Z",
     "iopub.status.idle": "2025-01-08T15:27:46.503331Z",
     "shell.execute_reply": "2025-01-08T15:27:46.502257Z"
    },
    "papermill": {
     "duration": 0.01132,
     "end_time": "2025-01-08T15:27:46.505231",
     "exception": false,
     "start_time": "2025-01-08T15:27:46.493911",
     "status": "completed"
    },
    "tags": []
   },
   "outputs": [],
   "source": [
    "# Lines below will give you a hint or solution code\n",
    "#step_1.a.hint()\n",
    "#step_1.a.solution()"
   ]
  },
  {
   "cell_type": "markdown",
   "id": "833d5d89",
   "metadata": {
    "papermill": {
     "duration": 0.004396,
     "end_time": "2025-01-08T15:27:46.514634",
     "exception": false,
     "start_time": "2025-01-08T15:27:46.510238",
     "status": "completed"
    },
    "tags": []
   },
   "source": [
    "### Part B\n",
    "\n",
    "Set `predictions_1` to the model's predictions for the validation data.  Recall that the validation features are stored in `X_valid`."
   ]
  },
  {
   "cell_type": "code",
   "execution_count": 5,
   "id": "880a0c8f",
   "metadata": {
    "execution": {
     "iopub.execute_input": "2025-01-08T15:27:46.525385Z",
     "iopub.status.busy": "2025-01-08T15:27:46.525061Z",
     "iopub.status.idle": "2025-01-08T15:27:46.561608Z",
     "shell.execute_reply": "2025-01-08T15:27:46.560357Z"
    },
    "papermill": {
     "duration": 0.04501,
     "end_time": "2025-01-08T15:27:46.564559",
     "exception": false,
     "start_time": "2025-01-08T15:27:46.519549",
     "status": "completed"
    },
    "tags": []
   },
   "outputs": [
    {
     "name": "stdout",
     "output_type": "stream",
     "text": [
      "Mean Absolute Error: 18161.82412510702\n"
     ]
    },
    {
     "data": {
      "application/javascript": [
       "parent.postMessage({\"jupyterEvent\": \"custom.exercise_interaction\", \"data\": {\"outcomeType\": 1, \"valueTowardsCompletion\": 0.5, \"interactionType\": 1, \"questionType\": 2, \"questionId\": \"1.2_Model1B\", \"learnToolsVersion\": \"0.3.4\", \"failureMessage\": \"\", \"exceptionClass\": \"\", \"trace\": \"\"}}, \"*\")"
      ],
      "text/plain": [
       "<IPython.core.display.Javascript object>"
      ]
     },
     "metadata": {},
     "output_type": "display_data"
    },
    {
     "data": {
      "text/markdown": [
       "<span style=\"color:#33cc33\">Correct</span>"
      ],
      "text/plain": [
       "Correct"
      ]
     },
     "metadata": {},
     "output_type": "display_data"
    }
   ],
   "source": [
    "from sklearn.metrics import mean_absolute_error\n",
    "\n",
    "# Get predictions\n",
    "predictions_1 = my_model_1.predict(X_valid)\n",
    "print(\"Mean Absolute Error: \" + str(mean_absolute_error(predictions_1, y_valid)))\n",
    "\n",
    "# Check your answer\n",
    "step_1.b.check()"
   ]
  },
  {
   "cell_type": "code",
   "execution_count": 6,
   "id": "78bdb1b3",
   "metadata": {
    "execution": {
     "iopub.execute_input": "2025-01-08T15:27:46.575799Z",
     "iopub.status.busy": "2025-01-08T15:27:46.575377Z",
     "iopub.status.idle": "2025-01-08T15:27:46.579137Z",
     "shell.execute_reply": "2025-01-08T15:27:46.578257Z"
    },
    "papermill": {
     "duration": 0.011275,
     "end_time": "2025-01-08T15:27:46.580820",
     "exception": false,
     "start_time": "2025-01-08T15:27:46.569545",
     "status": "completed"
    },
    "tags": []
   },
   "outputs": [],
   "source": [
    "# Lines below will give you a hint or solution code\n",
    "#step_1.b.hint()\n",
    "#step_1.b.solution()"
   ]
  },
  {
   "cell_type": "markdown",
   "id": "5f388990",
   "metadata": {
    "papermill": {
     "duration": 0.004817,
     "end_time": "2025-01-08T15:27:46.591156",
     "exception": false,
     "start_time": "2025-01-08T15:27:46.586339",
     "status": "completed"
    },
    "tags": []
   },
   "source": [
    "### Part C\n",
    "\n",
    "Finally, use the `mean_absolute_error()` function to calculate the mean absolute error (MAE) corresponding to the predictions for the validation set.  Recall that the labels for the validation data are stored in `y_valid`."
   ]
  },
  {
   "cell_type": "code",
   "execution_count": 7,
   "id": "2ffa5089",
   "metadata": {
    "execution": {
     "iopub.execute_input": "2025-01-08T15:27:46.602582Z",
     "iopub.status.busy": "2025-01-08T15:27:46.602175Z",
     "iopub.status.idle": "2025-01-08T15:27:46.612006Z",
     "shell.execute_reply": "2025-01-08T15:27:46.610794Z"
    },
    "papermill": {
     "duration": 0.017588,
     "end_time": "2025-01-08T15:27:46.613778",
     "exception": false,
     "start_time": "2025-01-08T15:27:46.596190",
     "status": "completed"
    },
    "tags": []
   },
   "outputs": [
    {
     "name": "stdout",
     "output_type": "stream",
     "text": [
      "Mean Absolute Error: 18161.82412510702\n"
     ]
    },
    {
     "data": {
      "application/javascript": [
       "parent.postMessage({\"jupyterEvent\": \"custom.exercise_interaction\", \"data\": {\"outcomeType\": 1, \"valueTowardsCompletion\": 0.5, \"interactionType\": 1, \"questionType\": 2, \"questionId\": \"1.3_Model1C\", \"learnToolsVersion\": \"0.3.4\", \"failureMessage\": \"\", \"exceptionClass\": \"\", \"trace\": \"\"}}, \"*\")"
      ],
      "text/plain": [
       "<IPython.core.display.Javascript object>"
      ]
     },
     "metadata": {},
     "output_type": "display_data"
    },
    {
     "data": {
      "text/markdown": [
       "<span style=\"color:#33cc33\">Correct</span>"
      ],
      "text/plain": [
       "Correct"
      ]
     },
     "metadata": {},
     "output_type": "display_data"
    }
   ],
   "source": [
    "# Calculate MAE\n",
    "mae_1 = mean_absolute_error(predictions_1, y_valid)\n",
    "\n",
    "# Uncomment to print MAE\n",
    "print(\"Mean Absolute Error:\" , mae_1)\n",
    "\n",
    "# Check your answer\n",
    "step_1.c.check()"
   ]
  },
  {
   "cell_type": "code",
   "execution_count": 8,
   "id": "f9b03f38",
   "metadata": {
    "execution": {
     "iopub.execute_input": "2025-01-08T15:27:46.626202Z",
     "iopub.status.busy": "2025-01-08T15:27:46.625799Z",
     "iopub.status.idle": "2025-01-08T15:27:46.630016Z",
     "shell.execute_reply": "2025-01-08T15:27:46.628858Z"
    },
    "papermill": {
     "duration": 0.012604,
     "end_time": "2025-01-08T15:27:46.631934",
     "exception": false,
     "start_time": "2025-01-08T15:27:46.619330",
     "status": "completed"
    },
    "tags": []
   },
   "outputs": [],
   "source": [
    "# Lines below will give you a hint or solution code\n",
    "#step_1.c.hint()\n",
    "#step_1.c.solution()"
   ]
  },
  {
   "cell_type": "markdown",
   "id": "b3aad9d4",
   "metadata": {
    "papermill": {
     "duration": 0.005209,
     "end_time": "2025-01-08T15:27:46.643025",
     "exception": false,
     "start_time": "2025-01-08T15:27:46.637816",
     "status": "completed"
    },
    "tags": []
   },
   "source": [
    "# Step 2: Improve the model\n",
    "\n",
    "Now that you've trained a default model as baseline, it's time to tinker with the parameters, to see if you can get better performance!\n",
    "- Begin by setting `my_model_2` to an XGBoost model, using the [XGBRegressor](https://xgboost.readthedocs.io/en/latest/python/python_api.html#xgboost.XGBRegressor) class.  Use what you learned in the previous tutorial to figure out how to change the default parameters (like `n_estimators` and `learning_rate`) to get better results.\n",
    "- Then, fit the model to the training data in `X_train` and `y_train`.\n",
    "- Set `predictions_2` to the model's predictions for the validation data.  Recall that the validation features are stored in `X_valid`.\n",
    "- Finally, use the `mean_absolute_error()` function to calculate the mean absolute error (MAE) corresponding to the predictions on the validation set.  Recall that the labels for the validation data are stored in `y_valid`.\n",
    "\n",
    "In order for this step to be marked correct, your model in `my_model_2` must attain lower MAE than the model in `my_model_1`. "
   ]
  },
  {
   "cell_type": "code",
   "execution_count": 9,
   "id": "8c12d66d",
   "metadata": {
    "execution": {
     "iopub.execute_input": "2025-01-08T15:27:46.655685Z",
     "iopub.status.busy": "2025-01-08T15:27:46.655276Z",
     "iopub.status.idle": "2025-01-08T15:27:49.031014Z",
     "shell.execute_reply": "2025-01-08T15:27:49.029914Z"
    },
    "papermill": {
     "duration": 2.385173,
     "end_time": "2025-01-08T15:27:49.034041",
     "exception": false,
     "start_time": "2025-01-08T15:27:46.648868",
     "status": "completed"
    },
    "tags": []
   },
   "outputs": [
    {
     "name": "stderr",
     "output_type": "stream",
     "text": [
      "/usr/local/lib/python3.10/dist-packages/xgboost/sklearn.py:889: UserWarning: `early_stopping_rounds` in `fit` method is deprecated for better compatibility with scikit-learn, use `early_stopping_rounds` in constructor or`set_params` instead.\n",
      "  warnings.warn(\n"
     ]
    },
    {
     "name": "stdout",
     "output_type": "stream",
     "text": [
      "Mean Absolute Error: 15783.4990234375\n"
     ]
    },
    {
     "data": {
      "application/javascript": [
       "parent.postMessage({\"jupyterEvent\": \"custom.exercise_interaction\", \"data\": {\"outcomeType\": 1, \"valueTowardsCompletion\": 0.5, \"interactionType\": 1, \"questionType\": 2, \"questionId\": \"2_Model2\", \"learnToolsVersion\": \"0.3.4\", \"failureMessage\": \"\", \"exceptionClass\": \"\", \"trace\": \"\"}}, \"*\")"
      ],
      "text/plain": [
       "<IPython.core.display.Javascript object>"
      ]
     },
     "metadata": {},
     "output_type": "display_data"
    },
    {
     "data": {
      "text/markdown": [
       "<span style=\"color:#33cc33\">Correct</span>"
      ],
      "text/plain": [
       "Correct"
      ]
     },
     "metadata": {},
     "output_type": "display_data"
    }
   ],
   "source": [
    "# Define the model\n",
    "my_model_2 = XGBRegressor(n_estimators = 1000, \n",
    "                          learning_rate = 0.05, \n",
    "                          min_child_weight= 3,\n",
    "                          max_depth = 6,\n",
    "                          subsample = 0.9,\n",
    "                          random_state = 0,\n",
    "                          n_jobs = -1 \n",
    "                         ) \n",
    "\n",
    "# Fit the model\n",
    "my_model_2.fit(X_train, y_train, \n",
    "             early_stopping_rounds=20, \n",
    "             eval_set=[(X_valid, y_valid)],\n",
    "             verbose=False)\n",
    "\n",
    "# Get predictions\n",
    "predictions_2 = my_model_2.predict(X_valid)\n",
    "\n",
    "# Calculate MAE\n",
    "mae_2 = mean_absolute_error(predictions_2, y_valid)\n",
    "\n",
    "# Uncomment to print MAE\n",
    "print(\"Mean Absolute Error:\" , mae_2)\n",
    "\n",
    "# Check your answer\n",
    "step_2.check()"
   ]
  },
  {
   "cell_type": "code",
   "execution_count": 10,
   "id": "829b6d56",
   "metadata": {
    "execution": {
     "iopub.execute_input": "2025-01-08T15:27:49.049061Z",
     "iopub.status.busy": "2025-01-08T15:27:49.048593Z",
     "iopub.status.idle": "2025-01-08T15:27:49.053431Z",
     "shell.execute_reply": "2025-01-08T15:27:49.052267Z"
    },
    "papermill": {
     "duration": 0.014877,
     "end_time": "2025-01-08T15:27:49.055511",
     "exception": false,
     "start_time": "2025-01-08T15:27:49.040634",
     "status": "completed"
    },
    "tags": []
   },
   "outputs": [],
   "source": [
    "# Lines below will give you a hint or solution code\n",
    "#step_2.hint()\n",
    "#step_2.solution()"
   ]
  },
  {
   "cell_type": "markdown",
   "id": "a0cb3ff5",
   "metadata": {
    "papermill": {
     "duration": 0.005831,
     "end_time": "2025-01-08T15:27:49.067320",
     "exception": false,
     "start_time": "2025-01-08T15:27:49.061489",
     "status": "completed"
    },
    "tags": []
   },
   "source": [
    "# Step 3: Break the model\n",
    "\n",
    "In this step, you will create a model that performs worse than the original model in Step 1.  This will help you to develop your intuition for how to set parameters.  You might even find that you accidentally get better performance, which is ultimately a nice problem to have and a valuable learning experience!\n",
    "- Begin by setting `my_model_3` to an XGBoost model, using the [XGBRegressor](https://xgboost.readthedocs.io/en/latest/python/python_api.html#xgboost.XGBRegressor) class.  Use what you learned in the previous tutorial to figure out how to change the default parameters (like `n_estimators` and `learning_rate`) to design a model to get high MAE.\n",
    "- Then, fit the model to the training data in `X_train` and `y_train`.\n",
    "- Set `predictions_3` to the model's predictions for the validation data.  Recall that the validation features are stored in `X_valid`.\n",
    "- Finally, use the `mean_absolute_error()` function to calculate the mean absolute error (MAE) corresponding to the predictions on the validation set.  Recall that the labels for the validation data are stored in `y_valid`.\n",
    "\n",
    "In order for this step to be marked correct, your model in `my_model_3` must attain higher MAE than the model in `my_model_1`. "
   ]
  },
  {
   "cell_type": "code",
   "execution_count": 11,
   "id": "7cc43634",
   "metadata": {
    "execution": {
     "iopub.execute_input": "2025-01-08T15:27:49.080771Z",
     "iopub.status.busy": "2025-01-08T15:27:49.080351Z",
     "iopub.status.idle": "2025-01-08T15:27:49.222633Z",
     "shell.execute_reply": "2025-01-08T15:27:49.221473Z"
    },
    "papermill": {
     "duration": 0.150607,
     "end_time": "2025-01-08T15:27:49.224220",
     "exception": false,
     "start_time": "2025-01-08T15:27:49.073613",
     "status": "completed"
    },
    "tags": []
   },
   "outputs": [
    {
     "name": "stdout",
     "output_type": "stream",
     "text": [
      "Mean Absolute Error: 34221.23036172945\n"
     ]
    },
    {
     "name": "stderr",
     "output_type": "stream",
     "text": [
      "/usr/local/lib/python3.10/dist-packages/xgboost/sklearn.py:889: UserWarning: `early_stopping_rounds` in `fit` method is deprecated for better compatibility with scikit-learn, use `early_stopping_rounds` in constructor or`set_params` instead.\n",
      "  warnings.warn(\n"
     ]
    },
    {
     "data": {
      "application/javascript": [
       "parent.postMessage({\"jupyterEvent\": \"custom.exercise_interaction\", \"data\": {\"outcomeType\": 1, \"valueTowardsCompletion\": 0.5, \"interactionType\": 1, \"questionType\": 2, \"questionId\": \"3_Model3\", \"learnToolsVersion\": \"0.3.4\", \"failureMessage\": \"\", \"exceptionClass\": \"\", \"trace\": \"\"}}, \"*\")"
      ],
      "text/plain": [
       "<IPython.core.display.Javascript object>"
      ]
     },
     "metadata": {},
     "output_type": "display_data"
    },
    {
     "data": {
      "text/markdown": [
       "<span style=\"color:#33cc33\">Correct</span>"
      ],
      "text/plain": [
       "Correct"
      ]
     },
     "metadata": {},
     "output_type": "display_data"
    }
   ],
   "source": [
    "# Define the model\n",
    "my_model_3 = XGBRegressor(n_estimators = 1, learning_rate = 0.5)\n",
    "\n",
    "# Fit the model\n",
    "my_model_3.fit(X_train, y_train, \n",
    "             early_stopping_rounds=5,\n",
    "             eval_set=[(X_valid, y_valid)], \n",
    "             verbose=False)\n",
    "\n",
    "# Get predictions\n",
    "predictions_3 = my_model_3.predict(X_valid)\n",
    "\n",
    "# Calculate MAE\n",
    "mae_3 = mean_absolute_error(predictions_3, y_valid)\n",
    "\n",
    "# Uncomment to print MAE\n",
    "print(\"Mean Absolute Error:\" , mae_3)\n",
    "\n",
    "\n",
    "# Check your answer\n",
    "step_3.check()"
   ]
  },
  {
   "cell_type": "code",
   "execution_count": 12,
   "id": "45c43104",
   "metadata": {
    "execution": {
     "iopub.execute_input": "2025-01-08T15:27:49.237913Z",
     "iopub.status.busy": "2025-01-08T15:27:49.237539Z",
     "iopub.status.idle": "2025-01-08T15:27:49.241417Z",
     "shell.execute_reply": "2025-01-08T15:27:49.240356Z"
    },
    "papermill": {
     "duration": 0.012942,
     "end_time": "2025-01-08T15:27:49.243309",
     "exception": false,
     "start_time": "2025-01-08T15:27:49.230367",
     "status": "completed"
    },
    "tags": []
   },
   "outputs": [],
   "source": [
    "# Lines below will give you a hint or solution code\n",
    "#step_3.hint()\n",
    "\n",
    "#step_3.solution()"
   ]
  },
  {
   "cell_type": "code",
   "execution_count": 13,
   "id": "3387150b",
   "metadata": {
    "execution": {
     "iopub.execute_input": "2025-01-08T15:27:49.257625Z",
     "iopub.status.busy": "2025-01-08T15:27:49.257218Z",
     "iopub.status.idle": "2025-01-08T15:27:49.319284Z",
     "shell.execute_reply": "2025-01-08T15:27:49.318140Z"
    },
    "papermill": {
     "duration": 0.071641,
     "end_time": "2025-01-08T15:27:49.321415",
     "exception": false,
     "start_time": "2025-01-08T15:27:49.249774",
     "status": "completed"
    },
    "tags": []
   },
   "outputs": [],
   "source": [
    "test_preds = my_model_2.predict(X_test)\n",
    "\n",
    "# Save test predictions to file\n",
    "output = pd.DataFrame({\"Id\": X_test.index,\n",
    "                       \"SalePrice\": test_preds})\n",
    "output.to_csv(\"submission.csv\", index = False)"
   ]
  },
  {
   "cell_type": "markdown",
   "id": "0ab4de44",
   "metadata": {
    "papermill": {
     "duration": 0.005836,
     "end_time": "2025-01-08T15:27:49.333608",
     "exception": false,
     "start_time": "2025-01-08T15:27:49.327772",
     "status": "completed"
    },
    "tags": []
   },
   "source": [
    "# Keep going\n",
    "\n",
    "Continue to learn about **[data leakage](https://www.kaggle.com/alexisbcook/data-leakage)**.  This is an important issue for a data scientist to understand, and it has the potential to ruin your models in subtle and dangerous ways!"
   ]
  },
  {
   "cell_type": "markdown",
   "id": "ff5021a7",
   "metadata": {
    "papermill": {
     "duration": 0.005808,
     "end_time": "2025-01-08T15:27:49.345665",
     "exception": false,
     "start_time": "2025-01-08T15:27:49.339857",
     "status": "completed"
    },
    "tags": []
   },
   "source": [
    "---\n",
    "\n",
    "\n",
    "\n",
    "\n",
    "*Have questions or comments? Visit the [course discussion forum](https://www.kaggle.com/learn/intermediate-machine-learning/discussion) to chat with other learners.*"
   ]
  }
 ],
 "metadata": {
  "kaggle": {
   "accelerator": "none",
   "dataSources": [
    {
     "databundleVersionId": 111096,
     "sourceId": 10211,
     "sourceType": "competition"
    }
   ],
   "isGpuEnabled": false,
   "isInternetEnabled": false,
   "language": "python",
   "sourceType": "notebook"
  },
  "kernelspec": {
   "display_name": "Python 3",
   "language": "python",
   "name": "python3"
  },
  "language_info": {
   "codemirror_mode": {
    "name": "ipython",
    "version": 3
   },
   "file_extension": ".py",
   "mimetype": "text/x-python",
   "name": "python",
   "nbconvert_exporter": "python",
   "pygments_lexer": "ipython3",
   "version": "3.10.12"
  },
  "papermill": {
   "default_parameters": {},
   "duration": 9.638116,
   "end_time": "2025-01-08T15:27:50.072662",
   "environment_variables": {},
   "exception": null,
   "input_path": "__notebook__.ipynb",
   "output_path": "__notebook__.ipynb",
   "parameters": {},
   "start_time": "2025-01-08T15:27:40.434546",
   "version": "2.6.0"
  }
 },
 "nbformat": 4,
 "nbformat_minor": 5
}
