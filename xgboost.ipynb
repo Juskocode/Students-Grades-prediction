{
 "cells": [
  {
   "cell_type": "markdown",
   "id": "cb511b1c",
   "metadata": {
    "papermill": {
     "duration": 0.005309,
     "end_time": "2025-01-08T15:22:28.819999",
     "exception": false,
     "start_time": "2025-01-08T15:22:28.814690",
     "status": "completed"
    },
    "tags": []
   },
   "source": [
    "**This notebook is an exercise in the [Intermediate Machine Learning](https://www.kaggle.com/learn/intermediate-machine-learning) course.  You can reference the tutorial at [this link](https://www.kaggle.com/alexisbcook/xgboost).**\n",
    "\n",
    "---\n"
   ]
  },
  {
   "cell_type": "markdown",
   "id": "9d480ff3",
   "metadata": {
    "papermill": {
     "duration": 0.004066,
     "end_time": "2025-01-08T15:22:28.828717",
     "exception": false,
     "start_time": "2025-01-08T15:22:28.824651",
     "status": "completed"
    },
    "tags": []
   },
   "source": [
    "In this exercise, you will use your new knowledge to train a model with **gradient boosting**.\n",
    "\n",
    "# Setup\n",
    "\n",
    "The questions below will give you feedback on your work. Run the following cell to set up the feedback system."
   ]
  },
  {
   "cell_type": "code",
   "execution_count": 1,
   "id": "edf40c44",
   "metadata": {
    "execution": {
     "iopub.execute_input": "2025-01-08T15:22:28.839180Z",
     "iopub.status.busy": "2025-01-08T15:22:28.838727Z",
     "iopub.status.idle": "2025-01-08T15:22:31.650604Z",
     "shell.execute_reply": "2025-01-08T15:22:31.648363Z"
    },
    "papermill": {
     "duration": 2.81942,
     "end_time": "2025-01-08T15:22:31.652589",
     "exception": false,
     "start_time": "2025-01-08T15:22:28.833169",
     "status": "completed"
    },
    "tags": []
   },
   "outputs": [
    {
     "name": "stdout",
     "output_type": "stream",
     "text": [
      "Setup Complete\n"
     ]
    }
   ],
   "source": [
    "# Set up code checking\n",
    "import os\n",
    "if not os.path.exists(\"../input/train.csv\"):\n",
    "    os.symlink(\"../input/home-data-for-ml-course/train.csv\", \"../input/train.csv\")  \n",
    "    os.symlink(\"../input/home-data-for-ml-course/test.csv\", \"../input/test.csv\") \n",
    "from learntools.core import binder\n",
    "binder.bind(globals())\n",
    "from learntools.ml_intermediate.ex6 import *\n",
    "print(\"Setup Complete\")"
   ]
  },
  {
   "cell_type": "markdown",
   "id": "87341831",
   "metadata": {
    "papermill": {
     "duration": 0.004233,
     "end_time": "2025-01-08T15:22:31.662292",
     "exception": false,
     "start_time": "2025-01-08T15:22:31.658059",
     "status": "completed"
    },
    "tags": []
   },
   "source": [
    "You will work with the [Housing Prices Competition for Kaggle Learn Users](https://www.kaggle.com/c/home-data-for-ml-course) dataset from the previous exercise. \n",
    "\n",
    "![Ames Housing dataset image](https://storage.googleapis.com/kaggle-media/learn/images/lTJVG4e.png)\n",
    "\n",
    "Run the next code cell without changes to load the training and validation sets in `X_train`, `X_valid`, `y_train`, and `y_valid`.  The test set is loaded in `X_test`."
   ]
  },
  {
   "cell_type": "code",
   "execution_count": 2,
   "id": "d34d86ec",
   "metadata": {
    "execution": {
     "iopub.execute_input": "2025-01-08T15:22:31.672558Z",
     "iopub.status.busy": "2025-01-08T15:22:31.672220Z",
     "iopub.status.idle": "2025-01-08T15:22:31.819474Z",
     "shell.execute_reply": "2025-01-08T15:22:31.818626Z"
    },
    "papermill": {
     "duration": 0.154608,
     "end_time": "2025-01-08T15:22:31.821329",
     "exception": false,
     "start_time": "2025-01-08T15:22:31.666721",
     "status": "completed"
    },
    "tags": []
   },
   "outputs": [],
   "source": [
    "import pandas as pd\n",
    "from sklearn.model_selection import train_test_split\n",
    "\n",
    "# Read the data\n",
    "X = pd.read_csv('../input/train.csv', index_col='Id')\n",
    "X_test_full = pd.read_csv('../input/test.csv', index_col='Id')\n",
    "\n",
    "# Remove rows with missing target, separate target from predictors\n",
    "X.dropna(axis=0, subset=['SalePrice'], inplace=True)\n",
    "y = X.SalePrice              \n",
    "X.drop(['SalePrice'], axis=1, inplace=True)\n",
    "\n",
    "# Break off validation set from training data\n",
    "X_train_full, X_valid_full, y_train, y_valid = train_test_split(X, y, train_size=0.8, test_size=0.2,\n",
    "                                                                random_state=0)\n",
    "\n",
    "# \"Cardinality\" means the number of unique values in a column\n",
    "# Select categorical columns with relatively low cardinality (convenient but arbitrary)\n",
    "low_cardinality_cols = [cname for cname in X_train_full.columns if X_train_full[cname].nunique() < 10 and \n",
    "                        X_train_full[cname].dtype == \"object\"]\n",
    "\n",
    "# Select numeric columns\n",
    "numeric_cols = [cname for cname in X_train_full.columns if X_train_full[cname].dtype in ['int64', 'float64']]\n",
    "\n",
    "# Keep selected columns only\n",
    "my_cols = low_cardinality_cols + numeric_cols\n",
    "X_train = X_train_full[my_cols].copy()\n",
    "X_valid = X_valid_full[my_cols].copy()\n",
    "X_test = X_test_full[my_cols].copy()\n",
    "\n",
    "# One-hot encode the data (to shorten the code, we use pandas)\n",
    "X_train = pd.get_dummies(X_train)\n",
    "X_valid = pd.get_dummies(X_valid)\n",
    "X_test = pd.get_dummies(X_test)\n",
    "X_train, X_valid = X_train.align(X_valid, join='left', axis=1)\n",
    "X_train, X_test = X_train.align(X_test, join='left', axis=1)"
   ]
  },
  {
   "cell_type": "markdown",
   "id": "5d9f2f7a",
   "metadata": {
    "papermill": {
     "duration": 0.004282,
     "end_time": "2025-01-08T15:22:31.830340",
     "exception": false,
     "start_time": "2025-01-08T15:22:31.826058",
     "status": "completed"
    },
    "tags": []
   },
   "source": [
    "# Step 1: Build model\n",
    "\n",
    "### Part A\n",
    "\n",
    "In this step, you'll build and train your first model with gradient boosting.\n",
    "\n",
    "- Begin by setting `my_model_1` to an XGBoost model.  Use the [XGBRegressor](https://xgboost.readthedocs.io/en/latest/python/python_api.html#xgboost.XGBRegressor) class, and set the random seed to 0 (`random_state=0`).  **Leave all other parameters as default.**\n",
    "- Then, fit the model to the training data in `X_train` and `y_train`."
   ]
  },
  {
   "cell_type": "code",
   "execution_count": 3,
   "id": "61459383",
   "metadata": {
    "execution": {
     "iopub.execute_input": "2025-01-08T15:22:31.840614Z",
     "iopub.status.busy": "2025-01-08T15:22:31.840223Z",
     "iopub.status.idle": "2025-01-08T15:22:32.270876Z",
     "shell.execute_reply": "2025-01-08T15:22:32.270027Z"
    },
    "papermill": {
     "duration": 0.437952,
     "end_time": "2025-01-08T15:22:32.272718",
     "exception": false,
     "start_time": "2025-01-08T15:22:31.834766",
     "status": "completed"
    },
    "tags": []
   },
   "outputs": [
    {
     "data": {
      "application/javascript": [
       "parent.postMessage({\"jupyterEvent\": \"custom.exercise_interaction\", \"data\": {\"outcomeType\": 1, \"valueTowardsCompletion\": 0.5, \"interactionType\": 1, \"questionType\": 2, \"questionId\": \"1.1_Model1A\", \"learnToolsVersion\": \"0.3.4\", \"failureMessage\": \"\", \"exceptionClass\": \"\", \"trace\": \"\"}}, \"*\")"
      ],
      "text/plain": [
       "<IPython.core.display.Javascript object>"
      ]
     },
     "metadata": {},
     "output_type": "display_data"
    },
    {
     "data": {
      "text/markdown": [
       "<span style=\"color:#33cc33\">Correct</span>"
      ],
      "text/plain": [
       "Correct"
      ]
     },
     "metadata": {},
     "output_type": "display_data"
    }
   ],
   "source": [
    "from xgboost import XGBRegressor\n",
    "\n",
    "# Define the model\n",
    "my_model_1 = XGBRegressor(random_state = 0)\n",
    "\n",
    "# Fit the model\n",
    "my_model_1.fit(X_train, y_train)\n",
    "# Check your answer\n",
    "step_1.a.check()"
   ]
  },
  {
   "cell_type": "code",
   "execution_count": 4,
   "id": "457524ab",
   "metadata": {
    "execution": {
     "iopub.execute_input": "2025-01-08T15:22:32.284400Z",
     "iopub.status.busy": "2025-01-08T15:22:32.283980Z",
     "iopub.status.idle": "2025-01-08T15:22:32.287506Z",
     "shell.execute_reply": "2025-01-08T15:22:32.286524Z"
    },
    "papermill": {
     "duration": 0.010623,
     "end_time": "2025-01-08T15:22:32.289134",
     "exception": false,
     "start_time": "2025-01-08T15:22:32.278511",
     "status": "completed"
    },
    "tags": []
   },
   "outputs": [],
   "source": [
    "# Lines below will give you a hint or solution code\n",
    "#step_1.a.hint()\n",
    "#step_1.a.solution()"
   ]
  },
  {
   "cell_type": "markdown",
   "id": "80c64fc4",
   "metadata": {
    "papermill": {
     "duration": 0.004349,
     "end_time": "2025-01-08T15:22:32.298550",
     "exception": false,
     "start_time": "2025-01-08T15:22:32.294201",
     "status": "completed"
    },
    "tags": []
   },
   "source": [
    "### Part B\n",
    "\n",
    "Set `predictions_1` to the model's predictions for the validation data.  Recall that the validation features are stored in `X_valid`."
   ]
  },
  {
   "cell_type": "code",
   "execution_count": 5,
   "id": "783415ed",
   "metadata": {
    "execution": {
     "iopub.execute_input": "2025-01-08T15:22:32.308766Z",
     "iopub.status.busy": "2025-01-08T15:22:32.308417Z",
     "iopub.status.idle": "2025-01-08T15:22:32.346410Z",
     "shell.execute_reply": "2025-01-08T15:22:32.345576Z"
    },
    "papermill": {
     "duration": 0.045426,
     "end_time": "2025-01-08T15:22:32.348487",
     "exception": false,
     "start_time": "2025-01-08T15:22:32.303061",
     "status": "completed"
    },
    "tags": []
   },
   "outputs": [
    {
     "name": "stdout",
     "output_type": "stream",
     "text": [
      "Mean Absolute Error: 18161.82412510702\n"
     ]
    },
    {
     "data": {
      "application/javascript": [
       "parent.postMessage({\"jupyterEvent\": \"custom.exercise_interaction\", \"data\": {\"outcomeType\": 1, \"valueTowardsCompletion\": 0.5, \"interactionType\": 1, \"questionType\": 2, \"questionId\": \"1.2_Model1B\", \"learnToolsVersion\": \"0.3.4\", \"failureMessage\": \"\", \"exceptionClass\": \"\", \"trace\": \"\"}}, \"*\")"
      ],
      "text/plain": [
       "<IPython.core.display.Javascript object>"
      ]
     },
     "metadata": {},
     "output_type": "display_data"
    },
    {
     "data": {
      "text/markdown": [
       "<span style=\"color:#33cc33\">Correct</span>"
      ],
      "text/plain": [
       "Correct"
      ]
     },
     "metadata": {},
     "output_type": "display_data"
    }
   ],
   "source": [
    "from sklearn.metrics import mean_absolute_error\n",
    "\n",
    "# Get predictions\n",
    "predictions_1 = my_model_1.predict(X_valid)\n",
    "print(\"Mean Absolute Error: \" + str(mean_absolute_error(predictions_1, y_valid)))\n",
    "\n",
    "# Check your answer\n",
    "step_1.b.check()"
   ]
  },
  {
   "cell_type": "code",
   "execution_count": 6,
   "id": "0a6ace9a",
   "metadata": {
    "execution": {
     "iopub.execute_input": "2025-01-08T15:22:32.361073Z",
     "iopub.status.busy": "2025-01-08T15:22:32.360697Z",
     "iopub.status.idle": "2025-01-08T15:22:32.364424Z",
     "shell.execute_reply": "2025-01-08T15:22:32.363415Z"
    },
    "papermill": {
     "duration": 0.011187,
     "end_time": "2025-01-08T15:22:32.365964",
     "exception": false,
     "start_time": "2025-01-08T15:22:32.354777",
     "status": "completed"
    },
    "tags": []
   },
   "outputs": [],
   "source": [
    "# Lines below will give you a hint or solution code\n",
    "#step_1.b.hint()\n",
    "#step_1.b.solution()"
   ]
  },
  {
   "cell_type": "markdown",
   "id": "180b58b9",
   "metadata": {
    "papermill": {
     "duration": 0.004692,
     "end_time": "2025-01-08T15:22:32.375989",
     "exception": false,
     "start_time": "2025-01-08T15:22:32.371297",
     "status": "completed"
    },
    "tags": []
   },
   "source": [
    "### Part C\n",
    "\n",
    "Finally, use the `mean_absolute_error()` function to calculate the mean absolute error (MAE) corresponding to the predictions for the validation set.  Recall that the labels for the validation data are stored in `y_valid`."
   ]
  },
  {
   "cell_type": "code",
   "execution_count": 7,
   "id": "14ee90bf",
   "metadata": {
    "execution": {
     "iopub.execute_input": "2025-01-08T15:22:32.387444Z",
     "iopub.status.busy": "2025-01-08T15:22:32.387083Z",
     "iopub.status.idle": "2025-01-08T15:22:32.396948Z",
     "shell.execute_reply": "2025-01-08T15:22:32.395685Z"
    },
    "papermill": {
     "duration": 0.017795,
     "end_time": "2025-01-08T15:22:32.398989",
     "exception": false,
     "start_time": "2025-01-08T15:22:32.381194",
     "status": "completed"
    },
    "tags": []
   },
   "outputs": [
    {
     "name": "stdout",
     "output_type": "stream",
     "text": [
      "Mean Absolute Error: 18161.82412510702\n"
     ]
    },
    {
     "data": {
      "application/javascript": [
       "parent.postMessage({\"jupyterEvent\": \"custom.exercise_interaction\", \"data\": {\"outcomeType\": 1, \"valueTowardsCompletion\": 0.5, \"interactionType\": 1, \"questionType\": 2, \"questionId\": \"1.3_Model1C\", \"learnToolsVersion\": \"0.3.4\", \"failureMessage\": \"\", \"exceptionClass\": \"\", \"trace\": \"\"}}, \"*\")"
      ],
      "text/plain": [
       "<IPython.core.display.Javascript object>"
      ]
     },
     "metadata": {},
     "output_type": "display_data"
    },
    {
     "data": {
      "text/markdown": [
       "<span style=\"color:#33cc33\">Correct</span>"
      ],
      "text/plain": [
       "Correct"
      ]
     },
     "metadata": {},
     "output_type": "display_data"
    }
   ],
   "source": [
    "# Calculate MAE\n",
    "mae_1 = mean_absolute_error(predictions_1, y_valid)\n",
    "\n",
    "# Uncomment to print MAE\n",
    "print(\"Mean Absolute Error:\" , mae_1)\n",
    "\n",
    "# Check your answer\n",
    "step_1.c.check()"
   ]
  },
  {
   "cell_type": "code",
   "execution_count": 8,
   "id": "7ddfcc06",
   "metadata": {
    "execution": {
     "iopub.execute_input": "2025-01-08T15:22:32.411313Z",
     "iopub.status.busy": "2025-01-08T15:22:32.410926Z",
     "iopub.status.idle": "2025-01-08T15:22:32.414844Z",
     "shell.execute_reply": "2025-01-08T15:22:32.413924Z"
    },
    "papermill": {
     "duration": 0.011642,
     "end_time": "2025-01-08T15:22:32.416342",
     "exception": false,
     "start_time": "2025-01-08T15:22:32.404700",
     "status": "completed"
    },
    "tags": []
   },
   "outputs": [],
   "source": [
    "# Lines below will give you a hint or solution code\n",
    "#step_1.c.hint()\n",
    "#step_1.c.solution()"
   ]
  },
  {
   "cell_type": "markdown",
   "id": "93c6a4c9",
   "metadata": {
    "papermill": {
     "duration": 0.005272,
     "end_time": "2025-01-08T15:22:32.427096",
     "exception": false,
     "start_time": "2025-01-08T15:22:32.421824",
     "status": "completed"
    },
    "tags": []
   },
   "source": [
    "# Step 2: Improve the model\n",
    "\n",
    "Now that you've trained a default model as baseline, it's time to tinker with the parameters, to see if you can get better performance!\n",
    "- Begin by setting `my_model_2` to an XGBoost model, using the [XGBRegressor](https://xgboost.readthedocs.io/en/latest/python/python_api.html#xgboost.XGBRegressor) class.  Use what you learned in the previous tutorial to figure out how to change the default parameters (like `n_estimators` and `learning_rate`) to get better results.\n",
    "- Then, fit the model to the training data in `X_train` and `y_train`.\n",
    "- Set `predictions_2` to the model's predictions for the validation data.  Recall that the validation features are stored in `X_valid`.\n",
    "- Finally, use the `mean_absolute_error()` function to calculate the mean absolute error (MAE) corresponding to the predictions on the validation set.  Recall that the labels for the validation data are stored in `y_valid`.\n",
    "\n",
    "In order for this step to be marked correct, your model in `my_model_2` must attain lower MAE than the model in `my_model_1`. "
   ]
  },
  {
   "cell_type": "code",
   "execution_count": 9,
   "id": "40dd50ea",
   "metadata": {
    "execution": {
     "iopub.execute_input": "2025-01-08T15:22:32.438830Z",
     "iopub.status.busy": "2025-01-08T15:22:32.438470Z",
     "iopub.status.idle": "2025-01-08T15:22:34.547510Z",
     "shell.execute_reply": "2025-01-08T15:22:34.546579Z"
    },
    "papermill": {
     "duration": 2.118814,
     "end_time": "2025-01-08T15:22:34.551194",
     "exception": false,
     "start_time": "2025-01-08T15:22:32.432380",
     "status": "completed"
    },
    "tags": []
   },
   "outputs": [
    {
     "name": "stderr",
     "output_type": "stream",
     "text": [
      "/usr/local/lib/python3.10/dist-packages/xgboost/sklearn.py:889: UserWarning: `early_stopping_rounds` in `fit` method is deprecated for better compatibility with scikit-learn, use `early_stopping_rounds` in constructor or`set_params` instead.\n",
      "  warnings.warn(\n"
     ]
    },
    {
     "name": "stdout",
     "output_type": "stream",
     "text": [
      "Mean Absolute Error: 15783.4990234375\n"
     ]
    },
    {
     "data": {
      "application/javascript": [
       "parent.postMessage({\"jupyterEvent\": \"custom.exercise_interaction\", \"data\": {\"outcomeType\": 1, \"valueTowardsCompletion\": 0.5, \"interactionType\": 1, \"questionType\": 2, \"questionId\": \"2_Model2\", \"learnToolsVersion\": \"0.3.4\", \"failureMessage\": \"\", \"exceptionClass\": \"\", \"trace\": \"\"}}, \"*\")"
      ],
      "text/plain": [
       "<IPython.core.display.Javascript object>"
      ]
     },
     "metadata": {},
     "output_type": "display_data"
    },
    {
     "data": {
      "text/markdown": [
       "<span style=\"color:#33cc33\">Correct</span>"
      ],
      "text/plain": [
       "Correct"
      ]
     },
     "metadata": {},
     "output_type": "display_data"
    }
   ],
   "source": [
    "# Define the model\n",
    "my_model_2 = XGBRegressor(n_estimators = 1000, \n",
    "                          learning_rate = 0.05, \n",
    "                          min_child_weight= 3,\n",
    "                          max_depth = 6,\n",
    "                          subsample = 0.9,\n",
    "                          random_state = 0,\n",
    "                          n_jobs = -1 \n",
    "                         ) \n",
    "\n",
    "# Fit the model\n",
    "my_model_2.fit(X_train, y_train, \n",
    "             early_stopping_rounds=20, \n",
    "             eval_set=[(X_valid, y_valid)],\n",
    "             verbose=False)\n",
    "\n",
    "# Get predictions\n",
    "predictions_2 = my_model_2.predict(X_valid)\n",
    "\n",
    "# Calculate MAE\n",
    "mae_2 = mean_absolute_error(predictions_2, y_valid)\n",
    "\n",
    "# Uncomment to print MAE\n",
    "print(\"Mean Absolute Error:\" , mae_2)\n",
    "\n",
    "# Check your answer\n",
    "step_2.check()"
   ]
  },
  {
   "cell_type": "code",
   "execution_count": 10,
   "id": "1b86fddc",
   "metadata": {
    "execution": {
     "iopub.execute_input": "2025-01-08T15:22:34.565568Z",
     "iopub.status.busy": "2025-01-08T15:22:34.565213Z",
     "iopub.status.idle": "2025-01-08T15:22:34.626921Z",
     "shell.execute_reply": "2025-01-08T15:22:34.625975Z"
    },
    "papermill": {
     "duration": 0.070581,
     "end_time": "2025-01-08T15:22:34.629068",
     "exception": false,
     "start_time": "2025-01-08T15:22:34.558487",
     "status": "completed"
    },
    "tags": []
   },
   "outputs": [],
   "source": [
    "test_preds = my_model_2.predict(X_test)\n",
    "\n",
    "# Save test predictions to file\n",
    "output = pd.DataFrame({\"Id\": X_test.index,\n",
    "                       \"SalePrice\": test_preds})\n",
    "output.to_csv(\"submission.csv\", index = False)"
   ]
  },
  {
   "cell_type": "code",
   "execution_count": 11,
   "id": "3f4ff68f",
   "metadata": {
    "execution": {
     "iopub.execute_input": "2025-01-08T15:22:34.643978Z",
     "iopub.status.busy": "2025-01-08T15:22:34.643606Z",
     "iopub.status.idle": "2025-01-08T15:22:34.651217Z",
     "shell.execute_reply": "2025-01-08T15:22:34.650235Z"
    },
    "papermill": {
     "duration": 0.016235,
     "end_time": "2025-01-08T15:22:34.652863",
     "exception": false,
     "start_time": "2025-01-08T15:22:34.636628",
     "status": "completed"
    },
    "tags": []
   },
   "outputs": [
    {
     "data": {
      "application/javascript": [
       "parent.postMessage({\"jupyterEvent\": \"custom.exercise_interaction\", \"data\": {\"interactionType\": 3, \"questionType\": 2, \"questionId\": \"2_Model2\", \"learnToolsVersion\": \"0.3.4\", \"valueTowardsCompletion\": 0.0, \"failureMessage\": \"\", \"exceptionClass\": \"\", \"trace\": \"\", \"outcomeType\": 4}}, \"*\")"
      ],
      "text/plain": [
       "<IPython.core.display.Javascript object>"
      ]
     },
     "metadata": {},
     "output_type": "display_data"
    },
    {
     "data": {
      "text/markdown": [
       "<span style=\"color:#33cc99\">Solution:</span> \n",
       "```python\n",
       "# Define the model\n",
       "my_model_2 = XGBRegressor(n_estimators=1000, learning_rate=0.05)\n",
       "\n",
       "# Fit the model\n",
       "my_model_2.fit(X_train, y_train)\n",
       "\n",
       "# Get predictions\n",
       "predictions_2 = my_model_2.predict(X_valid)\n",
       "\n",
       "# Calculate MAE\n",
       "mae_2 = mean_absolute_error(predictions_2, y_valid)\n",
       "print(\"Mean Absolute Error:\" , mae_2)\n",
       "\n",
       "```"
      ],
      "text/plain": [
       "Solution: \n",
       "```python\n",
       "# Define the model\n",
       "my_model_2 = XGBRegressor(n_estimators=1000, learning_rate=0.05)\n",
       "\n",
       "# Fit the model\n",
       "my_model_2.fit(X_train, y_train)\n",
       "\n",
       "# Get predictions\n",
       "predictions_2 = my_model_2.predict(X_valid)\n",
       "\n",
       "# Calculate MAE\n",
       "mae_2 = mean_absolute_error(predictions_2, y_valid)\n",
       "print(\"Mean Absolute Error:\" , mae_2)\n",
       "\n",
       "```"
      ]
     },
     "metadata": {},
     "output_type": "display_data"
    }
   ],
   "source": [
    "# Lines below will give you a hint or solution code\n",
    "#step_2.hint()\n",
    "step_2.solution()"
   ]
  },
  {
   "cell_type": "markdown",
   "id": "2220cd21",
   "metadata": {
    "papermill": {
     "duration": 0.00553,
     "end_time": "2025-01-08T15:22:34.664731",
     "exception": false,
     "start_time": "2025-01-08T15:22:34.659201",
     "status": "completed"
    },
    "tags": []
   },
   "source": [
    "# Step 3: Break the model\n",
    "\n",
    "In this step, you will create a model that performs worse than the original model in Step 1.  This will help you to develop your intuition for how to set parameters.  You might even find that you accidentally get better performance, which is ultimately a nice problem to have and a valuable learning experience!\n",
    "- Begin by setting `my_model_3` to an XGBoost model, using the [XGBRegressor](https://xgboost.readthedocs.io/en/latest/python/python_api.html#xgboost.XGBRegressor) class.  Use what you learned in the previous tutorial to figure out how to change the default parameters (like `n_estimators` and `learning_rate`) to design a model to get high MAE.\n",
    "- Then, fit the model to the training data in `X_train` and `y_train`.\n",
    "- Set `predictions_3` to the model's predictions for the validation data.  Recall that the validation features are stored in `X_valid`.\n",
    "- Finally, use the `mean_absolute_error()` function to calculate the mean absolute error (MAE) corresponding to the predictions on the validation set.  Recall that the labels for the validation data are stored in `y_valid`.\n",
    "\n",
    "In order for this step to be marked correct, your model in `my_model_3` must attain higher MAE than the model in `my_model_1`. "
   ]
  },
  {
   "cell_type": "code",
   "execution_count": 12,
   "id": "bf64b2a9",
   "metadata": {
    "execution": {
     "iopub.execute_input": "2025-01-08T15:22:34.677717Z",
     "iopub.status.busy": "2025-01-08T15:22:34.677311Z",
     "iopub.status.idle": "2025-01-08T15:22:34.923395Z",
     "shell.execute_reply": "2025-01-08T15:22:34.920145Z"
    },
    "papermill": {
     "duration": 0.256894,
     "end_time": "2025-01-08T15:22:34.927485",
     "exception": false,
     "start_time": "2025-01-08T15:22:34.670591",
     "status": "completed"
    },
    "tags": []
   },
   "outputs": [
    {
     "name": "stdout",
     "output_type": "stream",
     "text": [
      "[0]\tvalidation_0-rmse:53607.26950\n",
      "[1]\tvalidation_0-rmse:41212.04997\n",
      "[2]\tvalidation_0-rmse:37034.40284\n",
      "[3]\tvalidation_0-rmse:35101.05789\n",
      "[4]\tvalidation_0-rmse:34530.82654\n",
      "[5]\tvalidation_0-rmse:33679.56793\n",
      "[6]\tvalidation_0-rmse:32807.85368\n",
      "[7]\tvalidation_0-rmse:32425.22888\n",
      "[8]\tvalidation_0-rmse:32338.78564\n",
      "[9]\tvalidation_0-rmse:32340.00109\n",
      "[10]\tvalidation_0-rmse:32432.56865\n",
      "[11]\tvalidation_0-rmse:32364.87902\n",
      "[12]\tvalidation_0-rmse:32540.20224\n",
      "[13]\tvalidation_0-rmse:32697.56210\n",
      "Mean Absolute Error: 19681.582258668663\n"
     ]
    },
    {
     "name": "stderr",
     "output_type": "stream",
     "text": [
      "/usr/local/lib/python3.10/dist-packages/xgboost/sklearn.py:889: UserWarning: `early_stopping_rounds` in `fit` method is deprecated for better compatibility with scikit-learn, use `early_stopping_rounds` in constructor or`set_params` instead.\n",
      "  warnings.warn(\n"
     ]
    },
    {
     "data": {
      "application/javascript": [
       "parent.postMessage({\"jupyterEvent\": \"custom.exercise_interaction\", \"data\": {\"outcomeType\": 1, \"valueTowardsCompletion\": 0.5, \"interactionType\": 1, \"questionType\": 2, \"questionId\": \"3_Model3\", \"learnToolsVersion\": \"0.3.4\", \"failureMessage\": \"\", \"exceptionClass\": \"\", \"trace\": \"\"}}, \"*\")"
      ],
      "text/plain": [
       "<IPython.core.display.Javascript object>"
      ]
     },
     "metadata": {},
     "output_type": "display_data"
    },
    {
     "data": {
      "text/markdown": [
       "<span style=\"color:#33cc33\">Correct</span>"
      ],
      "text/plain": [
       "Correct"
      ]
     },
     "metadata": {},
     "output_type": "display_data"
    }
   ],
   "source": [
    "# Define the model\n",
    "my_model_3 = XGBRegressor(n_estimators = 200, learning_rate = 0.5)\n",
    "\n",
    "# Fit the model\n",
    "my_model_3.fit(X_train, y_train, \n",
    "             early_stopping_rounds=5,\n",
    "             eval_set=[(X_valid, y_valid)], \n",
    "             verbose=True)\n",
    "\n",
    "# Get predictions\n",
    "predictions_3 = my_model_3.predict(X_valid)\n",
    "\n",
    "# Calculate MAE\n",
    "mae_3 = mean_absolute_error(predictions_3, y_valid)\n",
    "\n",
    "# Uncomment to print MAE\n",
    "print(\"Mean Absolute Error:\" , mae_3)\n",
    "\n",
    "\n",
    "# Check your answer\n",
    "step_3.check()"
   ]
  },
  {
   "cell_type": "code",
   "execution_count": 13,
   "id": "45e9f56b",
   "metadata": {
    "execution": {
     "iopub.execute_input": "2025-01-08T15:22:34.944235Z",
     "iopub.status.busy": "2025-01-08T15:22:34.943830Z",
     "iopub.status.idle": "2025-01-08T15:22:34.951196Z",
     "shell.execute_reply": "2025-01-08T15:22:34.950165Z"
    },
    "papermill": {
     "duration": 0.016858,
     "end_time": "2025-01-08T15:22:34.952841",
     "exception": false,
     "start_time": "2025-01-08T15:22:34.935983",
     "status": "completed"
    },
    "tags": []
   },
   "outputs": [
    {
     "data": {
      "application/javascript": [
       "parent.postMessage({\"jupyterEvent\": \"custom.exercise_interaction\", \"data\": {\"interactionType\": 3, \"questionType\": 2, \"questionId\": \"3_Model3\", \"learnToolsVersion\": \"0.3.4\", \"valueTowardsCompletion\": 0.0, \"failureMessage\": \"\", \"exceptionClass\": \"\", \"trace\": \"\", \"outcomeType\": 4}}, \"*\")"
      ],
      "text/plain": [
       "<IPython.core.display.Javascript object>"
      ]
     },
     "metadata": {},
     "output_type": "display_data"
    },
    {
     "data": {
      "text/markdown": [
       "<span style=\"color:#33cc99\">Solution:</span> \n",
       "```python\n",
       "# Define the model\n",
       "my_model_3 = XGBRegressor(n_estimators=1)\n",
       "\n",
       "# Fit the model\n",
       "my_model_3.fit(X_train, y_train)\n",
       "\n",
       "# Get predictions\n",
       "predictions_3 = my_model_3.predict(X_valid)\n",
       "\n",
       "# Calculate MAE\n",
       "mae_3 = mean_absolute_error(predictions_3, y_valid)\n",
       "print(\"Mean Absolute Error:\" , mae_3)\n",
       "\n",
       "```"
      ],
      "text/plain": [
       "Solution: \n",
       "```python\n",
       "# Define the model\n",
       "my_model_3 = XGBRegressor(n_estimators=1)\n",
       "\n",
       "# Fit the model\n",
       "my_model_3.fit(X_train, y_train)\n",
       "\n",
       "# Get predictions\n",
       "predictions_3 = my_model_3.predict(X_valid)\n",
       "\n",
       "# Calculate MAE\n",
       "mae_3 = mean_absolute_error(predictions_3, y_valid)\n",
       "print(\"Mean Absolute Error:\" , mae_3)\n",
       "\n",
       "```"
      ]
     },
     "metadata": {},
     "output_type": "display_data"
    }
   ],
   "source": [
    "# Lines below will give you a hint or solution code\n",
    "#step_3.hint()\n",
    "\n",
    "step_3.solution()"
   ]
  },
  {
   "cell_type": "markdown",
   "id": "ff9d626e",
   "metadata": {
    "papermill": {
     "duration": 0.008315,
     "end_time": "2025-01-08T15:22:34.969428",
     "exception": false,
     "start_time": "2025-01-08T15:22:34.961113",
     "status": "completed"
    },
    "tags": []
   },
   "source": [
    "# Keep going\n",
    "\n",
    "Continue to learn about **[data leakage](https://www.kaggle.com/alexisbcook/data-leakage)**.  This is an important issue for a data scientist to understand, and it has the potential to ruin your models in subtle and dangerous ways!"
   ]
  },
  {
   "cell_type": "markdown",
   "id": "07d341a3",
   "metadata": {
    "papermill": {
     "duration": 0.008034,
     "end_time": "2025-01-08T15:22:34.985289",
     "exception": false,
     "start_time": "2025-01-08T15:22:34.977255",
     "status": "completed"
    },
    "tags": []
   },
   "source": [
    "---\n",
    "\n",
    "\n",
    "\n",
    "\n",
    "*Have questions or comments? Visit the [course discussion forum](https://www.kaggle.com/learn/intermediate-machine-learning/discussion) to chat with other learners.*"
   ]
  }
 ],
 "metadata": {
  "kaggle": {
   "accelerator": "none",
   "dataSources": [
    {
     "databundleVersionId": 111096,
     "sourceId": 10211,
     "sourceType": "competition"
    }
   ],
   "isGpuEnabled": false,
   "isInternetEnabled": false,
   "language": "python",
   "sourceType": "notebook"
  },
  "kernelspec": {
   "display_name": "Python 3",
   "language": "python",
   "name": "python3"
  },
  "language_info": {
   "codemirror_mode": {
    "name": "ipython",
    "version": 3
   },
   "file_extension": ".py",
   "mimetype": "text/x-python",
   "name": "python",
   "nbconvert_exporter": "python",
   "pygments_lexer": "ipython3",
   "version": "3.10.12"
  },
  "papermill": {
   "default_parameters": {},
   "duration": 9.143551,
   "end_time": "2025-01-08T15:22:35.719371",
   "environment_variables": {},
   "exception": null,
   "input_path": "__notebook__.ipynb",
   "output_path": "__notebook__.ipynb",
   "parameters": {},
   "start_time": "2025-01-08T15:22:26.575820",
   "version": "2.6.0"
  }
 },
 "nbformat": 4,
 "nbformat_minor": 5
}
